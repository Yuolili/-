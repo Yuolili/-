{
  "nbformat": 4,
  "nbformat_minor": 0,
  "metadata": {
    "colab": {
      "provenance": []
    },
    "kernelspec": {
      "name": "python3",
      "display_name": "Python 3"
    },
    "language_info": {
      "name": "python"
    }
  },
  "cells": [
    {
      "cell_type": "markdown",
      "source": [
        "**1. Сортировка в обратном порядке**"
      ],
      "metadata": {
        "id": "LJUJa6WiK9IG"
      }
    },
    {
      "cell_type": "code",
      "execution_count": 29,
      "metadata": {
        "colab": {
          "base_uri": "https://localhost:8080/"
        },
        "id": "2WEIVtlH_2nr",
        "outputId": "7cc29cb6-9998-4942-afb5-ec12867484fa"
      },
      "outputs": [
        {
          "output_type": "stream",
          "name": "stdout",
          "text": [
            "Введите количество чисел 4\n",
            "2\n",
            "9\n",
            "4\n",
            "6\n",
            "[9, 6, 4, 2]\n"
          ]
        }
      ],
      "source": [
        "n=int(input('Введите количество чисел '))\n",
        "a=list()\n",
        "for i in range (n):\n",
        "    a.append(int(input()))\n",
        "a.sort (reverse=True)\n",
        "print(a)"
      ]
    },
    {
      "cell_type": "markdown",
      "source": [
        "**2. Фильтр**"
      ],
      "metadata": {
        "id": "CmrEL2JkLARn"
      }
    },
    {
      "cell_type": "code",
      "source": [
        "a = int(input())\n",
        "for i in range(a):\n",
        "    b = input()\n",
        "    if b[:4] == '####':\n",
        "        b = b\n",
        "    elif b[:2] == '%%':\n",
        "        print(b[2:])\n",
        "    else:\n",
        "        print(b)"
      ],
      "metadata": {
        "colab": {
          "base_uri": "https://localhost:8080/"
        },
        "id": "IdKZKGuGLEkh",
        "outputId": "44ce611f-65a3-4844-8abe-4379dc9cc54f"
      },
      "execution_count": 44,
      "outputs": [
        {
          "output_type": "stream",
          "name": "stdout",
          "text": [
            "3\n",
            "SVO TRS 29481292\n",
            "SVO TRS 29481292\n",
            "%%LJPZ DME 11113283675\n",
            "LJPZ DME 11113283675\n",
            "###&%^^^^\n",
            "###&%^^^^\n"
          ]
        }
      ]
    },
    {
      "cell_type": "markdown",
      "source": [
        "Не поняла, как в условии с решетками удалить строку"
      ],
      "metadata": {
        "id": "XsMeORQi1ZrL"
      }
    },
    {
      "cell_type": "markdown",
      "source": [
        "**3. От и до**"
      ],
      "metadata": {
        "id": "vCU8O2LSTA6a"
      }
    },
    {
      "cell_type": "code",
      "source": [
        "s = 0\n",
        "n=int(input())\n",
        "lst=list()\n",
        "for i in range (n):\n",
        "    lst.append(int(input()))\n",
        "p = int(input()) -1\n",
        "q = int(input()) -1\n",
        "for i, x in enumerate(lst):\n",
        "    if p <= i <= q :\n",
        "        s += x\n",
        "print(s)"
      ],
      "metadata": {
        "colab": {
          "base_uri": "https://localhost:8080/"
        },
        "id": "OmvG-MwyUr83",
        "outputId": "7416bcce-f7ac-429d-afe6-ef7fb6880940"
      },
      "execution_count": 5,
      "outputs": [
        {
          "output_type": "stream",
          "name": "stdout",
          "text": [
            "5\n",
            "100\n",
            "222\n",
            "300\n",
            "444\n",
            "500\n",
            "2\n",
            "4\n",
            "966\n"
          ]
        }
      ]
    },
    {
      "cell_type": "markdown",
      "source": [
        "**4. Список отличников**"
      ],
      "metadata": {
        "id": "yGpZ3yFjXwg-"
      }
    },
    {
      "cell_type": "code",
      "source": [
        "r=list()\n",
        "s=list()\n",
        "n=int(input('Количество свободных мест '))\n",
        "def Artek(s, n):\n",
        "    s.append(input())\n",
        "    d=dict()\n",
        "    for x in s:\n",
        "        if s[::] == 5:\n",
        "          r.append(x)\n",
        "          len(r)\n",
        "          len(s)\n",
        "        if len(r)>n:\n",
        "          r.sort\n",
        "          print(r[:n])\n",
        "\n",
        "Artek(s,n)"
      ],
      "metadata": {
        "colab": {
          "base_uri": "https://localhost:8080/"
        },
        "id": "EEXq_j6-cd5c",
        "outputId": "6252f94e-cb08-4361-a1be-50c255350bb3"
      },
      "execution_count": 14,
      "outputs": [
        {
          "name": "stdout",
          "output_type": "stream",
          "text": [
            "Количество свободных мест 3\n",
            "Сидоров 3, Смирнова 5, Самойкин 4, Емельянов 2, Кац 5, Вдовиченко 5, Северин 4, Субботкин 5\n"
          ]
        }
      ]
    },
    {
      "cell_type": "markdown",
      "source": [
        "Не поняла, как сортировать и фильтровать данные введенные через запятую. Есть предположение, что нужно использовать словари, но как именно, не разобралась"
      ],
      "metadata": {
        "id": "E6pWOGKa1in5"
      }
    },
    {
      "cell_type": "markdown",
      "source": [
        "**5. Пароль (*)**"
      ],
      "metadata": {
        "id": "q3OQ6S6R2ELU"
      }
    },
    {
      "cell_type": "code",
      "source": [
        "a = input()\n",
        "def password_level():\n",
        "    if len(a) <= 7:\n",
        "           print('Недопустимый пароль')\n",
        "    else:\n",
        "        b, c, d, e = 0, 0, 0, 0\n",
        "        for i in a:\n",
        "            if i.isdigit():\n",
        "               b += 1\n",
        "            if i.isalpha():\n",
        "               c += 1\n",
        "               if i.isupper():\n",
        "                  d += 1\n",
        "               if i.islower():\n",
        "                  e += 1\n",
        "        if b == len(a) or d == len(a) or e == len(a): print ('Ненадежный пароль')\n",
        "        if (b == 0 and c == len(a) and d>=1 and e>=1) or (d == 0 and b>=1 and e>=1) or (e == 0 and b>=1 and d>=1):\n",
        "           print ('Слабый пароль')\n",
        "        if b>=1 and c>=1 and d>=1 and e>=1 and ('@', '#', '$', '%', '&', '*', '(', ')', '.', ',', '-', '_', '+' in a):\n",
        "           print ('Надежный пароль')\n",
        "password_level()"
      ],
      "metadata": {
        "colab": {
          "base_uri": "https://localhost:8080/"
        },
        "id": "C8Z_jOppoBaf",
        "outputId": "0893d511-6ff7-4e6f-a332-7e50a54b409b"
      },
      "execution_count": 45,
      "outputs": [
        {
          "output_type": "stream",
          "name": "stdout",
          "text": [
            "QWRkj__25\n",
            "Надежный пароль\n"
          ]
        }
      ]
    }
  ]
}