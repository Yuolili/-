{
  "nbformat": 4,
  "nbformat_minor": 0,
  "metadata": {
    "colab": {
      "provenance": []
    },
    "kernelspec": {
      "name": "python3",
      "display_name": "Python 3"
    },
    "language_info": {
      "name": "python"
    }
  },
  "cells": [
    {
      "cell_type": "code",
      "source": [
        "spisok1 = [10, 20, 30, 40]\n",
        "spisok2 = [5, 6, 7, 8]\n",
        "class Pupa:\n",
        "    def __init__(self):\n",
        "        self.salary = 0\n",
        "    def take_salary(self, amount):\n",
        "        self.salary += amount\n",
        "    def do_work(self, spisok1, spisok2):\n",
        "        result = [i+j for i, j in zip(spisok1, spisok2)]\n",
        "        print(f\"Pupa did the work. Result: {result}\")\n",
        "class Lupa:\n",
        "    def __init__(self):\n",
        "        self.salary = 0\n",
        "    def take_salary(self, amount):\n",
        "        self.salary += amount\n",
        "    def do_work(self, spisok1, spisok2):\n",
        "        result = []\n",
        "        for i, j in zip(spisok1,spisok2):\n",
        "             result.append(i - j)\n",
        "        print(f\"Lupa did the work. Result: {result}\")\n",
        "class Accountant:\n",
        "    def give_salary(self, worker):\n",
        "        import random\n",
        "        random_number = random.randint(100, 300)\n",
        "        worker.take_salary(1000 + random_number)\n",
        "pupa = Pupa()\n",
        "lupa = Lupa()\n",
        "\n",
        "pupa.do_work(spisok1, spisok2)\n",
        "lupa.do_work(spisok1, spisok2)\n",
        "\n",
        "accountant = Accountant()\n",
        "accountant.give_salary(pupa)\n",
        "accountant.give_salary(lupa)\n",
        "\n",
        "print(f\"Pupa's salary: {pupa.salary}\")\n",
        "print(f\"Lupa's salary: {lupa.salary}\")"
      ],
      "metadata": {
        "colab": {
          "base_uri": "https://localhost:8080/"
        },
        "id": "Uf0YRwKQpvEf",
        "outputId": "bb6ee180-f52b-400b-ea47-b45b301fd20e"
      },
      "execution_count": 39,
      "outputs": [
        {
          "output_type": "stream",
          "name": "stdout",
          "text": [
            "Pupa did the work. Result: [15, 26, 37, 48]\n",
            "Lupa did the work. Result: [5, 14, 23, 32]\n",
            "Pupa's salary: 1256\n",
            "Lupa's salary: 1116\n"
          ]
        }
      ]
    }
  ]
}