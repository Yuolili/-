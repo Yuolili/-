{
  "nbformat": 4,
  "nbformat_minor": 0,
  "metadata": {
    "colab": {
      "provenance": []
    },
    "kernelspec": {
      "name": "python3",
      "display_name": "Python 3"
    },
    "language_info": {
      "name": "python"
    }
  },
  "cells": [
    {
      "cell_type": "markdown",
      "source": [
        "**1) Вспомнить всё: if**"
      ],
      "metadata": {
        "id": "KrsySdB5jbhB"
      }
    },
    {
      "cell_type": "code",
      "execution_count": 23,
      "metadata": {
        "colab": {
          "base_uri": "https://localhost:8080/"
        },
        "id": "SgqyxjlZf-iT",
        "outputId": "88e38e2a-c617-448c-c93d-54339e23b105"
      },
      "outputs": [
        {
          "output_type": "stream",
          "name": "stdout",
          "text": [
            "Введите значение температуры в градусах Цельсия: 2\n",
            "ХОЛОДНО\n"
          ]
        }
      ],
      "source": [
        "t=float((input ('Введите значение температуры в градусах Цельсия: ')))\n",
        "if t<15.5:\n",
        "    print ('ХОЛОДНО')\n",
        "elif t>28:\n",
        "    print ('ЖАРКО')\n",
        "else: print ('НОРМАЛЬНО')"
      ]
    },
    {
      "cell_type": "markdown",
      "source": [
        "**2) Найди кота**"
      ],
      "metadata": {
        "id": "dmt0pDTtlbca"
      }
    },
    {
      "cell_type": "code",
      "source": [
        "n = int(input())\n",
        "for i in range(n):\n",
        "    txt = input()\n",
        "    if txt.lower().find('кот') >= 0:\n",
        "        print('МЯУ')\n",
        "        break\n",
        "else: print('НЕТ')"
      ],
      "metadata": {
        "colab": {
          "base_uri": "https://localhost:8080/"
        },
        "id": "u_8YSyWWlgqd",
        "outputId": "b7b62590-fbe9-4068-fbe8-25d6fcef7c5a"
      },
      "execution_count": 13,
      "outputs": [
        {
          "output_type": "stream",
          "name": "stdout",
          "text": [
            "3\n",
            "Елка\n",
            "Свет\n",
            "Кот\n",
            "МЯУ\n"
          ]
        }
      ]
    },
    {
      "cell_type": "markdown",
      "source": [
        "**3) Слова и буквы**"
      ],
      "metadata": {
        "id": "FuuGXbBXnrhs"
      }
    },
    {
      "cell_type": "code",
      "source": [
        "s = input()\n",
        "minx = s\n",
        "maxx = s\n",
        "while True:\n",
        "    s = input()\n",
        "    if s == 'стоп':\n",
        "        if len(set(minx) - set(maxx)) == 0:\n",
        "            print('ДА')\n",
        "            break\n",
        "        else :\n",
        "            print('НЕТ')\n",
        "            break\n",
        "\n",
        "    if len(s) > len(maxx):\n",
        "        maxx = s\n",
        "    if len(s) < len(minx):\n",
        "        minx = s"
      ],
      "metadata": {
        "colab": {
          "base_uri": "https://localhost:8080/"
        },
        "id": "RfQnz5H9n97W",
        "outputId": "249abaa4-de53-401d-c243-3a62e3ddc10d"
      },
      "execution_count": 14,
      "outputs": [
        {
          "output_type": "stream",
          "name": "stdout",
          "text": [
            "пиво\n",
            "нежность\n",
            "многофункциональность\n",
            "кот\n",
            "сосиска\n",
            "стоп\n",
            "ДА\n"
          ]
        }
      ]
    },
    {
      "cell_type": "markdown",
      "source": [
        "**4) Список покупок**"
      ],
      "metadata": {
        "id": "_yWIMjNAtnaQ"
      }
    },
    {
      "cell_type": "code",
      "source": [
        "n=int(input())\n",
        "b=[]\n",
        "for i in range (0,n):\n",
        "    a= input()\n",
        "    b.append(a)\n",
        "for x in b:\n",
        "    print(x)"
      ],
      "metadata": {
        "colab": {
          "base_uri": "https://localhost:8080/"
        },
        "id": "ToaAlY9nt_hY",
        "outputId": "4b3ac49e-83b6-4ebf-8737-af62ad30b799"
      },
      "execution_count": 4,
      "outputs": [
        {
          "output_type": "stream",
          "name": "stdout",
          "text": [
            "4\n",
            "картину\n",
            "корзину\n",
            "картонку\n",
            "маленькую собачену\n",
            "картину\n",
            "корзину\n",
            "картонку\n",
            "маленькую собачену\n"
          ]
        }
      ]
    },
    {
      "cell_type": "markdown",
      "source": [
        "**5) Ххооллоодд**"
      ],
      "metadata": {
        "id": "FXR8fnXYvbiE"
      }
    },
    {
      "cell_type": "code",
      "source": [
        "s = input()\n",
        "for i in s:\n",
        "    print(2 * i, end='')"
      ],
      "metadata": {
        "colab": {
          "base_uri": "https://localhost:8080/"
        },
        "id": "35ZqVIgevf3x",
        "outputId": "2d0ad55e-8d4d-4eef-fb1d-914ee237a908"
      },
      "execution_count": 7,
      "outputs": [
        {
          "output_type": "stream",
          "name": "stdout",
          "text": [
            "холод\n",
            "ххооллоодд"
          ]
        }
      ]
    },
    {
      "cell_type": "markdown",
      "source": [
        "**6) Формальное приветствие**"
      ],
      "metadata": {
        "id": "jSecf0m4wofy"
      }
    },
    {
      "cell_type": "code",
      "source": [
        "def greet():\n",
        "    name = input()\n",
        "    surname = input()\n",
        "    print('Здравствуйте, ', name, ' ', surname, '.', sep='')\n",
        "greet()"
      ],
      "metadata": {
        "colab": {
          "base_uri": "https://localhost:8080/"
        },
        "id": "YctMm-PQwwpt",
        "outputId": "a44f8849-af0c-4c4b-bf97-bcf78f432b78"
      },
      "execution_count": 15,
      "outputs": [
        {
          "output_type": "stream",
          "name": "stdout",
          "text": [
            "Иван\n",
            "Смирнов\n",
            "Здравствуйте, Иван Смирнов.\n"
          ]
        }
      ]
    },
    {
      "cell_type": "code",
      "source": [
        "class LittleBell:\n",
        "     def sound(self):\n",
        "        return 'ding'"
      ],
      "metadata": {
        "id": "mir3G-zNzD05"
      },
      "execution_count": 16,
      "outputs": []
    },
    {
      "cell_type": "markdown",
      "source": [
        "**8) Остаточные знания**"
      ],
      "metadata": {
        "id": "sP3bqvSS1eTE"
      }
    },
    {
      "cell_type": "markdown",
      "source": [
        "В прошлом году я проходила курсы, немного связанные с программированием на Python. Поверхностно изучала списки, словари, циклы, таблицы, функции, библиотеки numpy, matplotlib, pandas. Сейчас тяжеловато включиться в работу, так как прошло много времени, а знаний было не так много. Кроме того, после прошлых курсов практики не было."
      ],
      "metadata": {
        "id": "nxivTryq1jNG"
      }
    }
  ]
}